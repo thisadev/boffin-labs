{
 "cells": [
  {
   "cell_type": "code",
   "execution_count": 1,
   "id": "63fd7b2f-6a5b-46e2-bf33-ecb15cd528f3",
   "metadata": {},
   "outputs": [],
   "source": [
    "from hdfs import InsecureClient\n",
    "client = InsecureClient('http://hadoop-hadoop-hdfs-nn:9870', user='root')"
   ]
  },
  {
   "cell_type": "code",
   "execution_count": 2,
   "id": "61ac0877-a8f5-4082-85cc-de6f626ea20c",
   "metadata": {},
   "outputs": [
    {
     "data": {
      "text/plain": [
       "<InsecureClient(url='http://hadoop-hadoop-hdfs-nn:9870')>"
      ]
     },
     "execution_count": 2,
     "metadata": {},
     "output_type": "execute_result"
    }
   ],
   "source": [
    "client"
   ]
  },
  {
   "cell_type": "code",
   "execution_count": 3,
   "id": "b894ee88-c989-40ac-aec3-523bf366a1c5",
   "metadata": {},
   "outputs": [
    {
     "data": {
      "text/plain": [
       "{'directoryCount': 2,\n",
       " 'ecPolicy': '',\n",
       " 'fileCount': 0,\n",
       " 'length': 0,\n",
       " 'quota': 9223372036854775807,\n",
       " 'snapshotDirectoryCount': 0,\n",
       " 'snapshotFileCount': 0,\n",
       " 'snapshotLength': 0,\n",
       " 'snapshotSpaceConsumed': 0,\n",
       " 'spaceConsumed': 0,\n",
       " 'spaceQuota': -1,\n",
       " 'typeQuota': {}}"
      ]
     },
     "execution_count": 3,
     "metadata": {},
     "output_type": "execute_result"
    }
   ],
   "source": [
    "content = client.content('/')\n",
    "content"
   ]
  },
  {
   "cell_type": "code",
   "execution_count": 4,
   "id": "c913f6b8-0fa6-4810-a87b-06be90ecc206",
   "metadata": {},
   "outputs": [],
   "source": [
    "client.makedirs('/sample')"
   ]
  },
  {
   "cell_type": "code",
   "execution_count": 5,
   "id": "d9155755-240e-43ca-9383-2ab95e39ae65",
   "metadata": {},
   "outputs": [
    {
     "data": {
      "text/plain": [
       "['sample']"
      ]
     },
     "execution_count": 5,
     "metadata": {},
     "output_type": "execute_result"
    }
   ],
   "source": [
    "client.list('/')"
   ]
  },
  {
   "cell_type": "code",
   "execution_count": 6,
   "id": "95dc090d-ddca-4cbb-b935-bca27e5f422e",
   "metadata": {},
   "outputs": [],
   "source": [
    "from json import dump, dumps\n",
    "\n",
    "records = [\n",
    "  {'name': 'foo', 'weight': 1},\n",
    "  {'name': 'bar', 'weight': 2},\n",
    "]\n",
    "client.write('/sample/sample.json', data=dumps(records), encoding='utf-8')"
   ]
  },
  {
   "cell_type": "code",
   "execution_count": 7,
   "id": "be6006f1-a8d4-4a87-951f-0ee78dfd7a7b",
   "metadata": {},
   "outputs": [
    {
     "data": {
      "text/plain": [
       "['sample.json']"
      ]
     },
     "execution_count": 7,
     "metadata": {},
     "output_type": "execute_result"
    }
   ],
   "source": [
    "client.list('/sample')"
   ]
  },
  {
   "cell_type": "code",
   "execution_count": 9,
   "id": "82e31403-4b99-4d87-b966-4a82f7e33f67",
   "metadata": {},
   "outputs": [
    {
     "data": {
      "text/plain": [
       "'/home/jovyan/sample.json'"
      ]
     },
     "execution_count": 9,
     "metadata": {},
     "output_type": "execute_result"
    }
   ],
   "source": [
    "client.download('/sample/sample.json', 'sample.json')"
   ]
  },
  {
   "cell_type": "code",
   "execution_count": 10,
   "id": "c0abe209-11ba-4060-878d-e0d85ed47841",
   "metadata": {},
   "outputs": [
    {
     "data": {
      "text/plain": [
       "'/sample/sample.txt'"
      ]
     },
     "execution_count": 10,
     "metadata": {},
     "output_type": "execute_result"
    }
   ],
   "source": [
    "client.upload('/sample', 'sample.txt')"
   ]
  },
  {
   "cell_type": "code",
   "execution_count": 11,
   "id": "de34f6d9-970f-48e5-89eb-705a32943a02",
   "metadata": {},
   "outputs": [
    {
     "data": {
      "text/plain": [
       "['sample.json', 'sample.txt']"
      ]
     },
     "execution_count": 11,
     "metadata": {},
     "output_type": "execute_result"
    }
   ],
   "source": [
    "client.list('/sample')"
   ]
  },
  {
   "cell_type": "code",
   "execution_count": 12,
   "id": "0a6d1f9d-892f-4c28-bafa-6ab03742173a",
   "metadata": {},
   "outputs": [
    {
     "name": "stdout",
     "output_type": "stream",
     "text": [
      "1201  Gopal       45000    Technical manager\n",
      "1202  Manisha     45000    Proof reader\n",
      "1203  Masthanvali 40000    Technical writer\n",
      "1204  Kiran       40000    Hr Admin\n",
      "1205  Kranthi     30000    Op Admin\n"
     ]
    }
   ],
   "source": [
    "with client.read('/sample/sample.txt', encoding='utf-8', delimiter='\\n') as reader:\n",
    "  for line in reader:\n",
    "    print(line)"
   ]
  },
  {
   "cell_type": "code",
   "execution_count": 16,
   "id": "9cc52c9c-4aae-457c-9f1d-7d83ff2c6928",
   "metadata": {},
   "outputs": [
    {
     "data": {
      "text/plain": [
       "True"
      ]
     },
     "execution_count": 16,
     "metadata": {},
     "output_type": "execute_result"
    }
   ],
   "source": [
    "client.delete('/sample/sample.json')"
   ]
  },
  {
   "cell_type": "code",
   "execution_count": 17,
   "id": "f20c5f1c-f9ab-4ca8-b235-ba959d7ae388",
   "metadata": {},
   "outputs": [
    {
     "data": {
      "text/plain": [
       "True"
      ]
     },
     "execution_count": 17,
     "metadata": {},
     "output_type": "execute_result"
    }
   ],
   "source": [
    "client.delete('/sample/sample.txt')"
   ]
  },
  {
   "cell_type": "code",
   "execution_count": 18,
   "id": "bbed00b5-4ba3-451a-bf8c-b04a426a1d15",
   "metadata": {},
   "outputs": [],
   "source": [
    "! rm sample.json"
   ]
  }
 ],
 "metadata": {
  "kernelspec": {
   "display_name": "Python 3 (ipykernel)",
   "language": "python",
   "name": "python3"
  },
  "language_info": {
   "codemirror_mode": {
    "name": "ipython",
    "version": 3
   },
   "file_extension": ".py",
   "mimetype": "text/x-python",
   "name": "python",
   "nbconvert_exporter": "python",
   "pygments_lexer": "ipython3",
   "version": "3.9.13"
  }
 },
 "nbformat": 4,
 "nbformat_minor": 5
}
