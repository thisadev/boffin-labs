{
 "cells": [
  {
   "cell_type": "code",
   "execution_count": 1,
   "id": "28253d3f-5077-4f37-ae2a-8a0573e019cb",
   "metadata": {},
   "outputs": [],
   "source": [
    "from pyhive import hive\n",
    "from impala.dbapi import connect\n",
    "from hdfs import InsecureClient"
   ]
  },
  {
   "cell_type": "code",
   "execution_count": 2,
   "id": "5bdc601b-ff54-4d26-84b8-f5ea9dec4e88",
   "metadata": {},
   "outputs": [],
   "source": [
    "conn = connect(host='hive-server', port='10000', auth_mechanism='PLAIN')\n",
    "cursor=conn.cursor()"
   ]
  },
  {
   "cell_type": "code",
   "execution_count": 3,
   "id": "da5e8491-5f41-497d-ad3b-7a620a9a1327",
   "metadata": {},
   "outputs": [
    {
     "data": {
      "text/plain": [
       "<impala.hiveserver2.HiveServer2Connection at 0x7f87bdcb0ac0>"
      ]
     },
     "execution_count": 3,
     "metadata": {},
     "output_type": "execute_result"
    }
   ],
   "source": [
    "conn"
   ]
  },
  {
   "cell_type": "code",
   "execution_count": 4,
   "id": "c3bb4984-e0b5-4361-82f3-88703303c54e",
   "metadata": {},
   "outputs": [],
   "source": [
    "cursor.execute(\"CREATE TABLE IF NOT EXISTS student(Student_Name STRING, Student_Rollno INT, Student_Marks FLOAT) \\\n",
    "ROW FORMAT DELIMITED \\\n",
    "FIELDS TERMINATED BY ','\")"
   ]
  },
  {
   "cell_type": "code",
   "execution_count": 5,
   "id": "1c2f49c3-7bda-45b9-a49b-bce29899f455",
   "metadata": {},
   "outputs": [],
   "source": [
    "cursor.execute(\"INSERT INTO TABLE student VALUES ('Dikshant',1,'95'),('Akshat', 2 , '96'),('Dhruv',3,'90')\")"
   ]
  },
  {
   "cell_type": "code",
   "execution_count": 6,
   "id": "e826e0e1-90a6-4bf4-bdbe-76b27a05d154",
   "metadata": {},
   "outputs": [],
   "source": [
    "cursor.execute(\"SELECT * FROM student\")"
   ]
  },
  {
   "cell_type": "code",
   "execution_count": 7,
   "id": "318a3a27-7f6a-40b6-9285-4eb9aa63d16f",
   "metadata": {},
   "outputs": [
    {
     "name": "stdout",
     "output_type": "stream",
     "text": [
      "('Dikshant', 1, 95.0)\n",
      "('Akshat', 2, 96.0)\n",
      "('Dhruv', 3, 90.0)\n"
     ]
    }
   ],
   "source": [
    "for item in cursor.fetchall():\n",
    "    print(item)"
   ]
  },
  {
   "cell_type": "code",
   "execution_count": 8,
   "id": "4853cc7b-f4f1-46a8-a306-9fc5f7aaef83",
   "metadata": {},
   "outputs": [
    {
     "name": "stdout",
     "output_type": "stream",
     "text": [
      "('Dikshant', 1, 95.0)\n",
      "('Akshat', 2, 96.0)\n"
     ]
    }
   ],
   "source": [
    "cursor.execute(\"SELECT * FROM student WHERE Student_Marks > 93\")\n",
    "for item in cursor.fetchall():\n",
    "    print(item)"
   ]
  }
 ],
 "metadata": {
  "kernelspec": {
   "display_name": "Python 3 (ipykernel)",
   "language": "python",
   "name": "python3"
  },
  "language_info": {
   "codemirror_mode": {
    "name": "ipython",
    "version": 3
   },
   "file_extension": ".py",
   "mimetype": "text/x-python",
   "name": "python",
   "nbconvert_exporter": "python",
   "pygments_lexer": "ipython3",
   "version": "3.9.13"
  }
 },
 "nbformat": 4,
 "nbformat_minor": 5
}
