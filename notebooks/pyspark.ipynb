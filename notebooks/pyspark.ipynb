{
 "cells": [
  {
   "cell_type": "code",
   "execution_count": null,
   "id": "6297e79b-45cc-44dd-b44b-40d4a19516e7",
   "metadata": {},
   "outputs": [],
   "source": [
    "# run conda install -c anaconda python=3.9 in terminal to i"
   ]
  },
  {
   "cell_type": "code",
   "execution_count": 1,
   "id": "3298eb2e-b88f-48bc-9549-a80fe1d77e6e",
   "metadata": {},
   "outputs": [],
   "source": [
    "import socket"
   ]
  },
  {
   "cell_type": "code",
   "execution_count": 2,
   "id": "d480dc04-69ee-43f5-b08e-24cc97e3d728",
   "metadata": {},
   "outputs": [],
   "source": [
    "hostname = socket.gethostname()\n",
    "ip = socket.gethostbyname(hostname)"
   ]
  },
  {
   "cell_type": "code",
   "execution_count": null,
   "id": "3ce93644-5c13-42d2-aa88-90ac29db0be0",
   "metadata": {},
   "outputs": [],
   "source": [
    "import pyspark"
   ]
  },
  {
   "cell_type": "code",
   "execution_count": 5,
   "id": "25a1de66-b8ba-4617-b960-9c0a00070b6a",
   "metadata": {},
   "outputs": [],
   "source": [
    "conf = pyspark.SparkConf()"
   ]
  },
  {
   "cell_type": "code",
   "execution_count": 6,
   "id": "2ad5ed2e-f629-4647-8d77-d303fce93c3d",
   "metadata": {},
   "outputs": [],
   "source": [
    "from pyspark.sql import SparkSession\n",
    "spark = SparkSession.builder.master(\"spark://spark-spark-master-svc:7077\") \\\n",
    ".config(\"spark.submit.deployMode\", \"client\") \\\n",
    ".config(\"spark.driver.port\",\"7077\") \\\n",
    ".config(\"spark.driver.host\",ip) \\\n",
    ".config(\"spark.kubernetes.driver.pod.name \", \"spark-spark-master-0\") \\\n",
    ".config(\"spark.kubernetes.container.image\", \"gcr.io/cloud-marketplace/google/spark:3.3.0-20220703-150808\") \\\n",
    ".config(\"spark.kubernetes.pyspark.pythonVersion\", \"3.9\") \\\n",
    ".getOrCreate()"
   ]
  },
  {
   "cell_type": "code",
   "execution_count": null,
   "id": "868632fa-1046-42fa-9698-f4748e1a0b73",
   "metadata": {},
   "outputs": [],
   "source": [
    "#.config(\"spark.driver.host\",\"10.48.1.61:7077\") \\\n",
    "#.config(\"spark.driver.port\", \"7077\") \\\n",
    "#.config(\"spark.dynamicAllocation.enabled\", \"false\") \\\n",
    "#.config(\"spark.executor.memory\", '400m') \\\n",
    "#.config('spark.executor.cores', '1') \\\n",
    "#.config('spark.cores.max', '3') \\\n",
    "#.config(\"spark.driver.memory\",'1g') \\"
   ]
  },
  {
   "cell_type": "code",
   "execution_count": 7,
   "id": "cdd7df74-501d-4a6a-a5ed-7efeae7e06bc",
   "metadata": {},
   "outputs": [
    {
     "data": {
      "text/html": [
       "\n",
       "            <div>\n",
       "                <p><b>SparkSession - in-memory</b></p>\n",
       "                \n",
       "        <div>\n",
       "            <p><b>SparkContext</b></p>\n",
       "\n",
       "            <p><a href=\"http://10.72.2.44:4040\">Spark UI</a></p>\n",
       "\n",
       "            <dl>\n",
       "              <dt>Version</dt>\n",
       "                <dd><code>v3.3.0</code></dd>\n",
       "              <dt>Master</dt>\n",
       "                <dd><code>spark://spark-spark-master-svc:7077</code></dd>\n",
       "              <dt>AppName</dt>\n",
       "                <dd><code>pyspark-shell</code></dd>\n",
       "            </dl>\n",
       "        </div>\n",
       "        \n",
       "            </div>\n",
       "        "
      ],
      "text/plain": [
       "<pyspark.sql.session.SparkSession at 0x7f9270168fd0>"
      ]
     },
     "execution_count": 7,
     "metadata": {},
     "output_type": "execute_result"
    }
   ],
   "source": [
    "spark"
   ]
  },
  {
   "cell_type": "code",
   "execution_count": 8,
   "id": "412caa83-2637-4f17-8da7-abbbfcc0366c",
   "metadata": {},
   "outputs": [],
   "source": [
    "from datetime import datetime, date\n",
    "import pandas as pd\n",
    "from pyspark.sql import Row\n",
    "\n",
    "df = spark.createDataFrame([\n",
    "    Row(a=1, b=2., c='string1', d=date(2000, 1, 1), e=datetime(2000, 1, 1, 12, 0)),\n",
    "    Row(a=2, b=3., c='string2', d=date(2000, 2, 1), e=datetime(2000, 1, 2, 12, 0)),\n",
    "    Row(a=4, b=5., c='string3', d=date(2000, 3, 1), e=datetime(2000, 1, 3, 12, 0))\n",
    "])"
   ]
  },
  {
   "cell_type": "code",
   "execution_count": 9,
   "id": "6b4db3d0-833a-4946-817d-82ad0f4734c3",
   "metadata": {},
   "outputs": [
    {
     "name": "stdout",
     "output_type": "stream",
     "text": [
      "+---+---+-------+----------+-------------------+\n",
      "|  a|  b|      c|         d|                  e|\n",
      "+---+---+-------+----------+-------------------+\n",
      "|  1|2.0|string1|2000-01-01|2000-01-01 12:00:00|\n",
      "|  2|3.0|string2|2000-02-01|2000-01-02 12:00:00|\n",
      "|  4|5.0|string3|2000-03-01|2000-01-03 12:00:00|\n",
      "+---+---+-------+----------+-------------------+\n",
      "\n"
     ]
    }
   ],
   "source": [
    "df.show()"
   ]
  },
  {
   "cell_type": "code",
   "execution_count": 10,
   "id": "552c41c2-0d74-48c8-9de5-6283f4adff18",
   "metadata": {},
   "outputs": [],
   "source": [
    "spark.stop()"
   ]
  },
  {
   "cell_type": "code",
   "execution_count": null,
   "id": "6cdd768e-6787-419e-8767-cb4d739ff37e",
   "metadata": {},
   "outputs": [],
   "source": []
  }
 ],
 "metadata": {
  "kernelspec": {
   "display_name": "Python 3 (ipykernel)",
   "language": "python",
   "name": "python3"
  },
  "language_info": {
   "codemirror_mode": {
    "name": "ipython",
    "version": 3
   },
   "file_extension": ".py",
   "mimetype": "text/x-python",
   "name": "python",
   "nbconvert_exporter": "python",
   "pygments_lexer": "ipython3",
   "version": "3.9.13"
  }
 },
 "nbformat": 4,
 "nbformat_minor": 5
}
