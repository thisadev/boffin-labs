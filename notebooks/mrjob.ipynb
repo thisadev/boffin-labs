{
 "cells": [
  {
   "cell_type": "code",
   "execution_count": 15,
   "id": "de7f0bf3-8e56-4eeb-a1b7-5ba64028f101",
   "metadata": {},
   "outputs": [
    {
     "name": "stdout",
     "output_type": "stream",
     "text": [
      "Writing /home/jovyan/mrjobs/single_mapper.py\n"
     ]
    }
   ],
   "source": [
    "%%file ~/mrjobs/single_mapper.py\n",
    "from mrjob.job import MRJob\n",
    "\n",
    "class SingleReducer(MRJob):\n",
    "\n",
    "    def mapper(self, _, line):\n",
    "        row = line.split(',')\n",
    "        identifier = row[2]\n",
    "        yield(identifier,1)\n",
    "\n",
    "if __name__ == '__main__':\n",
    "    SingleReducer.run()"
   ]
  },
  {
   "cell_type": "code",
   "execution_count": 17,
   "id": "bf0fc604-176a-4050-86cf-04b9fd9bea0f",
   "metadata": {},
   "outputs": [
    {
     "name": "stdout",
     "output_type": "stream",
     "text": [
      "No configs found; falling back on auto-configuration\n",
      "No configs specified for inline runner\n",
      "Creating temp directory /tmp/single_mapper.jovyan.20221201.172119.039653\n",
      "Running step 1 of 1...\n",
      "job output is in /tmp/single_mapper.jovyan.20221201.172119.039653/output\n",
      "Streaming final output from /tmp/single_mapper.jovyan.20221201.172119.039653/output...\n",
      "\"1306421\"\t1\n",
      "\"15900065\"\t1\n",
      "\"12708937\"\t1\n",
      "\"3601530\"\t1\n",
      "\"1004775\"\t1\n",
      "\"1306894\"\t1\n",
      "\"1003461\"\t1\n",
      "\"5000088\"\t1\n",
      "\"17302664\"\t1\n",
      "Removing temp directory /tmp/single_mapper.jovyan.20221201.172119.039653...\n"
     ]
    }
   ],
   "source": [
    "! python ~/mrjobs/single_mapper.py sample.txt"
   ]
  },
  {
   "cell_type": "code",
   "execution_count": 18,
   "id": "fcfb4be7-e439-4e25-b1bc-d0cbdf76bb29",
   "metadata": {},
   "outputs": [
    {
     "name": "stdout",
     "output_type": "stream",
     "text": [
      "Writing /home/jovyan/mrjobs/mapper_reducer.py\n"
     ]
    }
   ],
   "source": [
    "%%file ~/mrjobs/mapper_reducer.py\n",
    "from mrjob.job import MRJob\n",
    "\n",
    "class MapperReducer(MRJob):\n",
    "\n",
    "    def mapper(self, _, line):\n",
    "        row = line.split(',')\n",
    "        identifier = row[5]\n",
    "        yield(identifier,1)\n",
    "        \n",
    "    def reducer(self, identifier, count):\n",
    "        yield (identifier, sum(count))\n",
    "\n",
    "if __name__ == '__main__':\n",
    "    MapperReducer.run()"
   ]
  },
  {
   "cell_type": "code",
   "execution_count": 19,
   "id": "d421842f-d921-4885-8fda-c0b8cf7b4297",
   "metadata": {},
   "outputs": [
    {
     "name": "stdout",
     "output_type": "stream",
     "text": [
      "No configs found; falling back on auto-configuration\n",
      "No configs specified for inline runner\n",
      "Creating temp directory /tmp/mapper_reducer.jovyan.20221201.172155.978001\n",
      "Running step 1 of 1...\n",
      "job output is in /tmp/mapper_reducer.jovyan.20221201.172155.978001/output\n",
      "Streaming final output from /tmp/mapper_reducer.jovyan.20221201.172155.978001/output...\n",
      "\"rondell\"\t1\n",
      "\"xiaomi\"\t2\n",
      "\"janome\"\t1\n",
      "\"lg\"\t1\n",
      "\"michelin\"\t1\n",
      "\"creed\"\t1\n",
      "\"hp\"\t2\n",
      "Removing temp directory /tmp/mapper_reducer.jovyan.20221201.172155.978001...\n"
     ]
    }
   ],
   "source": [
    "! python ~/mrjobs/mapper_reducer.py sample.txt"
   ]
  },
  {
   "cell_type": "code",
   "execution_count": 20,
   "id": "8c627eb1-d88a-4869-aca5-d22764b00ba2",
   "metadata": {},
   "outputs": [
    {
     "name": "stdout",
     "output_type": "stream",
     "text": [
      "Writing /home/jovyan/mrjobs/mapper_two_reducers.py\n"
     ]
    }
   ],
   "source": [
    "%%file ~/mrjobs/mapper_two_reducers.py\n",
    "from mrjob.job import MRJob\n",
    "from mrjob.step import MRStep\n",
    "\n",
    "class MapperTwoReducers(MRJob):\n",
    "\n",
    "    def mapper(self, _, line):\n",
    "        row = line.split(',')\n",
    "        identifier = row[5]\n",
    "        yield (identifier, 1)\n",
    "        \n",
    "    def reducer_count(self, identifier, count):\n",
    "        yield None, (sum(count), identifier)\n",
    "        \n",
    "    def reducer_max_count(self, _, total):\n",
    "        yield max(total)\n",
    "        \n",
    "    def steps(self):\n",
    "        return [\n",
    "            MRStep(mapper=self.mapper, reducer=self.reducer_count),\n",
    "            MRStep(reducer=self.reducer_max_count)\n",
    "        ]\n",
    "\n",
    "if __name__ == '__main__':\n",
    "    MapperTwoReducers.run()"
   ]
  },
  {
   "cell_type": "code",
   "execution_count": 21,
   "id": "78049253-44d2-4206-b7af-9aa2537fc0f3",
   "metadata": {},
   "outputs": [
    {
     "name": "stdout",
     "output_type": "stream",
     "text": [
      "No configs found; falling back on auto-configuration\n",
      "No configs specified for inline runner\n",
      "Creating temp directory /tmp/mapper_two_reducers.jovyan.20221201.172215.277435\n",
      "Running step 1 of 2...\n",
      "Running step 2 of 2...\n",
      "job output is in /tmp/mapper_two_reducers.jovyan.20221201.172215.277435/output\n",
      "Streaming final output from /tmp/mapper_two_reducers.jovyan.20221201.172215.277435/output...\n",
      "2\t\"xiaomi\"\n",
      "Removing temp directory /tmp/mapper_two_reducers.jovyan.20221201.172215.277435...\n"
     ]
    }
   ],
   "source": [
    "! python ~/mrjobs/mapper_two_reducers.py sample.txt"
   ]
  },
  {
   "cell_type": "code",
   "execution_count": 22,
   "id": "54c841b6-5498-4b5e-86db-62ea84beb120",
   "metadata": {},
   "outputs": [
    {
     "name": "stdout",
     "output_type": "stream",
     "text": [
      "Writing /home/jovyan/mrjobs/with_combiner.py\n"
     ]
    }
   ],
   "source": [
    "%%file ~/mrjobs/with_combiner.py\n",
    "from mrjob.job import MRJob\n",
    "\n",
    "class MapperReducer(MRJob):\n",
    "\n",
    "    def mapper(self, _, line):\n",
    "        row = line.split(',')\n",
    "        identifier = row[5]\n",
    "        yield(identifier,1)\n",
    "    \n",
    "    def combiner(self, identifier, count):\n",
    "        yield (identifier, sum(count))\n",
    "        \n",
    "    def reducer(self, identifier, count):\n",
    "        yield (identifier, sum(count))\n",
    "\n",
    "if __name__ == '__main__':\n",
    "    MapperReducer.run()"
   ]
  },
  {
   "cell_type": "code",
   "execution_count": 23,
   "id": "3e59036a-ba24-446d-a250-82f4c0167c1b",
   "metadata": {},
   "outputs": [
    {
     "name": "stdout",
     "output_type": "stream",
     "text": [
      "No configs found; falling back on auto-configuration\n",
      "No configs specified for inline runner\n",
      "Creating temp directory /tmp/with_combiner.jovyan.20221201.172229.682141\n",
      "Running step 1 of 1...\n",
      "job output is in /tmp/with_combiner.jovyan.20221201.172229.682141/output\n",
      "Streaming final output from /tmp/with_combiner.jovyan.20221201.172229.682141/output...\n",
      "\"rondell\"\t1\n",
      "\"xiaomi\"\t2\n",
      "\"janome\"\t1\n",
      "\"lg\"\t1\n",
      "\"michelin\"\t1\n",
      "\"creed\"\t1\n",
      "\"hp\"\t2\n",
      "Removing temp directory /tmp/with_combiner.jovyan.20221201.172229.682141...\n"
     ]
    }
   ],
   "source": [
    "! python ~/mrjobs/with_combiner.py sample.txt"
   ]
  },
  {
   "cell_type": "code",
   "execution_count": 24,
   "id": "8e3d36ae-7b99-460a-aa90-9dca57d1968f",
   "metadata": {},
   "outputs": [
    {
     "name": "stdout",
     "output_type": "stream",
     "text": [
      "Writing /home/jovyan/mrjobs/reduce_join.py\n"
     ]
    }
   ],
   "source": [
    "%%file ~/mrjobs/reduce_join.py\n",
    "from mrjob.job import MRJob\n",
    "from mrjob.step import MRStep\n",
    "\n",
    "class InnerJoin(MRJob):\n",
    "\n",
    "    def mapper(self, _, line):\n",
    "        fields=line.split(',')\n",
    "        if len(fields) == 9:\n",
    "            join_key = fields[2]\n",
    "            join_value = float(fields[6])\n",
    "            yield (join_key, ('T', join_value))\n",
    "            \n",
    "        elif len(fields) == 2: \n",
    "            join_key  = fields[0]\n",
    "            join_value = fields[1]\n",
    "            yield (join_key, ('M', join_value))\n",
    "            \n",
    "        else:\n",
    "            pass\n",
    "        \n",
    "    def reducer_join(self, key, values):\n",
    "        master_tuples = []\n",
    "        transactions_tuples = []\n",
    "\n",
    "        for value in values:\n",
    "            relation_symbol = value[0]\n",
    "            if relation_symbol == 'M': \n",
    "                master_tuples.append(value[1])\n",
    "            elif relation_symbol == 'T':\n",
    "                transactions_tuples.append(value[1])\n",
    "            else:\n",
    "                pass\n",
    "            \n",
    "        if len(master_tuples) > 0 and len(transactions_tuples) > 0:\n",
    "            for value in transactions_tuples:\n",
    "                yield (master_tuples[0], value)\n",
    "    \n",
    "    def reducer_sum(self, location, value):\n",
    "        yield(location, sum(value))\n",
    "        \n",
    "    \n",
    "\n",
    "    def steps(self):\n",
    "        return [\n",
    "            MRStep(mapper=self.mapper,reducer=self.reducer_join),\n",
    "            MRStep(reducer=self.reducer_sum)\n",
    "        ]\n",
    "if __name__ == '__main__':\n",
    "    InnerJoin.run()"
   ]
  },
  {
   "cell_type": "code",
   "execution_count": 10,
   "id": "b935d7da-3bf9-4f31-8285-25b7b12095b5",
   "metadata": {},
   "outputs": [
    {
     "name": "stdout",
     "output_type": "stream",
     "text": [
      "No configs found; falling back on auto-configuration\n",
      "No configs specified for inline runner\n",
      "Creating temp directory /tmp/reduce_join.jovyan.20221201.165540.622126\n",
      "Running step 1 of 2...\n",
      "Running step 2 of 2...\n",
      "job output is in /tmp/reduce_join.jovyan.20221201.165540.622126/output\n",
      "Streaming final output from /tmp/reduce_join.jovyan.20221201.165540.622126/output...\n",
      "\"Matara\"\t101.03\n",
      "\"Jaffna\"\t183.27\n",
      "\"Kandy\"\t519.93\n",
      "\"Colombo\"\t1881.1699999999998\n",
      "Removing temp directory /tmp/reduce_join.jovyan.20221201.165540.622126...\n"
     ]
    }
   ],
   "source": [
    "! python reduce_join.py sample.txt join.txt"
   ]
  },
  {
   "cell_type": "code",
   "execution_count": 14,
   "id": "6cf9faed-a734-4ecf-83a2-1c294a805147",
   "metadata": {},
   "outputs": [
    {
     "name": "stdout",
     "output_type": "stream",
     "text": [
      "Writing /home/jovyan/sample/test.txt\n"
     ]
    }
   ],
   "source": [
    "%%file ~/sample/test.txt\n",
    "\"sample text\""
   ]
  },
  {
   "cell_type": "code",
   "execution_count": null,
   "id": "70c2e6d2-98b6-49da-84a1-862918d7fc73",
   "metadata": {},
   "outputs": [],
   "source": []
  }
 ],
 "metadata": {
  "kernelspec": {
   "display_name": "Python 3 (ipykernel)",
   "language": "python",
   "name": "python3"
  },
  "language_info": {
   "codemirror_mode": {
    "name": "ipython",
    "version": 3
   },
   "file_extension": ".py",
   "mimetype": "text/x-python",
   "name": "python",
   "nbconvert_exporter": "python",
   "pygments_lexer": "ipython3",
   "version": "3.9.13"
  }
 },
 "nbformat": 4,
 "nbformat_minor": 5
}
